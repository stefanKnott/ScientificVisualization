{
 "cells": [
  {
   "cell_type": "markdown",
   "metadata": {
    "slideshow": {
     "slide_type": "slide"
    }
   },
   "source": [
    "# Linear Interpolation (LERP)\n",
    "\n",
    "- General form: $V_p = \\sum w_i * v_i$ (weighted sum)\n",
    "    - $v_i$: value at vertex $i$\n",
    "    - $w_i$: weight for $v_i$"
   ]
  },
  {
   "cell_type": "markdown",
   "metadata": {
    "slideshow": {
     "slide_type": "slide"
    }
   },
   "source": [
    "\n",
    "## Along a line\n",
    "\n",
    "\n",
    "<img src=\"./ip_line.png\" width=\"200\" style=\"float:left;\" /> \n",
    "<div style=\"clear:both;\"></div>\n",
    "\n",
    "- Parameteric coordinate of P: $\\alpha = \\frac{a}{a+b}$\n",
    "- Linear Interpolated value of P: \n",
    "    $V_P = (1-\\alpha) V_1 + \\alpha*V_2$\n",
    "    \n",
    "We create a Python functon $\\rm{lerp}(v1, v2, \\alpha)$"
   ]
  },
  {
   "cell_type": "code",
   "execution_count": 78,
   "metadata": {
    "collapsed": true
   },
   "outputs": [],
   "source": [
    "def lerp(v1, v2, alpha):\n",
    "    ''' Linear interpolation between v1 and v2. alpha is between 0 and 1.'''\n",
    "    return (v1 * (1. - alpha) + v2*alpha)"
   ]
  },
  {
   "cell_type": "markdown",
   "metadata": {
    "slideshow": {
     "slide_type": "slide"
    }
   },
   "source": [
    "### Linear interpolation for a rectangular cell - bilerp\n",
    "\n",
    "<img src=\"./ip_rect.png\" width=\"200\" style=\"float:left;\" /> \n",
    "<div style=\"clear:both;\"></div>\n",
    "\n",
    "- Parameteric coordinates of P: $(\\alpha, \\beta)$\n",
    "- $\\alpha = a / \\rm{width}$\n",
    "- $\\beta = b / \\rm{height}$\n",
    "- Value at $L1 = \\rm{lerp}(V_A, V_B, \\alpha)$\n",
    "- Value at $L2 = \\rm{lerp}(V_C, V_D, \\alpha)$\n",
    "- Linear interpolated value of P: $\\rm{lerp}(V_{L1}, V_{L2}, \\beta)$"
   ]
  },
  {
   "cell_type": "code",
   "execution_count": 46,
   "metadata": {
    "collapsed": true,
    "slideshow": {
     "slide_type": "-"
    }
   },
   "outputs": [],
   "source": [
    "def bilerp(cell, alpha, beta):\n",
    "    '''Bi-linear interpolation for a rectangular cell.'''\n",
    "    l0 = lerp(cell[0], cell[1], alpha)\n",
    "    l1 = lerp(cell[2], cell[3], alpha)\n",
    "    return lerp(l0, l1, beta)"
   ]
  },
  {
   "cell_type": "markdown",
   "metadata": {
    "slideshow": {
     "slide_type": "slide"
    }
   },
   "source": [
    "###  Linear interpolation for a cube - trilerp\n",
    "\n",
    "<img src=\"./ip_cube.png\" width=\"200\" style=\"float:left;\" /> \n",
    "<div style=\"clear:both;\"></div>\n",
    "\n",
    "- Value at A: $\\rm{bilerp}(V_0, V_1, V_2, V_3)$\n",
    "- Value at B: $\\rm{bilerp}(V_4, V_5, V_6, V_7)$\n",
    "- Value at P: $\\rm{lerp}(A, B, PA/AB)$"
   ]
  },
  {
   "cell_type": "code",
   "execution_count": 2,
   "metadata": {
    "collapsed": true
   },
   "outputs": [],
   "source": [
    "def trilerp(cell, alpha, beta, gamma):\n",
    "    '''Tri-linear interpolation for a cubic cell.'''\n",
    "    f1 = cell[0:4]\n",
    "    b1 = bilerp(f1, alpha, beta)\n",
    "    f2 = cell[4:8]\n",
    "    b2 = bilerp(f2, alpha, beta)\n",
    "    return lerp(b1, b2, gamma)"
   ]
  }
 ],
 "metadata": {
  "celltoolbar": "Slideshow",
  "kernelspec": {
   "display_name": "Python 2",
   "language": "python",
   "name": "python2"
  },
  "language_info": {
   "codemirror_mode": {
    "name": "ipython",
    "version": 2
   },
   "file_extension": ".py",
   "mimetype": "text/x-python",
   "name": "python",
   "nbconvert_exporter": "python",
   "pygments_lexer": "ipython2",
   "version": "2.7.11"
  }
 },
 "nbformat": 4,
 "nbformat_minor": 0
}
