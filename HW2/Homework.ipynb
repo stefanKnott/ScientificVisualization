{
 "cells": [
  {
   "cell_type": "markdown",
   "metadata": {},
   "source": [
    "# Using matplotlib and Basemap to Plot Ash Deposition from the Mount St. Helens Volcanic Eruption"
   ]
  },
  {
   "cell_type": "markdown",
   "metadata": {},
   "source": [
    "### Homework for Week 03 (Tue 26 Jan 2016)"
   ]
  },
  {
   "cell_type": "markdown",
   "metadata": {},
   "source": [
    "On the Sunday morning of May 18, 1980 in south-western Washington, Mount St. Helens experienced a shallow earthquake registering a magnitude 5.1 on the Richter scale. Combined with uplifting pressure from a magma pocket below the peak, the north face of Mount St. Helens suffered a catastrophic landslide. This landslide, the largest ever recorded, aided in the release of the underground pressure and resulting in an explosive volcanic eruption which sent a column of ash over 24km (>80,000 feet) into the atmosphere. The heat from the eruption created massive lahars, volcanic mudslides created from rapidly melted glacial snow and ice mixed with volcanic lava, ash, older soil and crushed rocks. The blast itself traveled over 480km/hr (>300mph) knocking down trees and anything else that stood in its path. In the end about 60 people (reports vary from 59-64) were dead, some areas around the mountain were buried in over 600 feet of ash, a large percentage of Washington lay under more than a half a foot of ash. The ash cloud deposited measurable amounts of ash across North America and due to the amount of gas and ash deposited into the atmosphere the ash cloud. In less than 2 weeks gas and ash from the cloud circled the globe and lowered global temperatures for a short period of time.\n",
    "\n",
    "For this homework assignment we will explore the mapping of a dataset provided to us by Jeff Falgout from the USGS (United States Geological Survey). This is a small subset of a larger dataset created by Larry Mastin (also from the USGS) which was modeled to simulate the ash cloud for the first 96 hours after the eruption. "
   ]
  },
  {
   "cell_type": "markdown",
   "metadata": {},
   "source": [
    "<b>This week we will be looking at:</b>\n",
    "\n",
    "1. <a href=\"#ReadData\">Read in the Data</a> - Read in a netCDF file with the Ash data.\n",
    "2. <a href=\"KnowData\">Getting to Know the Data</a> - Discover what is inside the data so we can plot it.\n",
    "3. <a href=\"FirstPlots\">The First Contour Plots</a> - Create the first couple exploratory plots of the data.\n",
    "4. <a href=\"FirstMap\">Creating the Map</a> - Create a Basemap map that will match our data.\n",
    "5. <a href=\"AddDepo\">Adding the Deposit Thickness to the Map</a> - Combine the map of North America with the ash deposition data.\n",
    "6. <a href=\"PresentableMap\">A Much More Presentable Map</a> - Creating a plot that is 'almost' journal ready.\n",
    "7. <a href=\"SmallWorld\">Its a Small World - The Final Product, First Beginnings</a> - How to create your first scientic visualization beyond simple plotting."
   ]
  },
  {
   "cell_type": "markdown",
   "metadata": {},
   "source": [
    "<a id=\"ReadData\">\n",
    "###Reading in the Data</a>\n",
    "\n",
    "The first thing you need to do is to use Pandas to read in the data form the accompanied 'BigAsh_DepoThick.nc'.\n",
    "* Create a variable called 'data' which holds the data from the netCDF file. \n",
    "* Make sure you remember to add in the inline magic command for matplotlib to plot into this notebook. \n",
    "* Add any and all the package imports you will use throughout this homework at the top of this block of code.\n"
   ]
  },
  {
   "cell_type": "code",
   "execution_count": null,
   "metadata": {
    "collapsed": false
   },
   "outputs": [],
   "source": []
  },
  {
   "cell_type": "markdown",
   "metadata": {},
   "source": [
    "<a id=\"KnowData\">\n",
    "###Getting to Know the Data</a>\n",
    "\n",
    "We have the data available but we know nothing about it thus we have no idea what we can plot with it let alone how we will define the plotting methods. Thus the first thing we need to do so become familiar with the data. \n",
    "* In the block below provide code which creates variables to hold each variable from the read in dataset.\n",
    "* Print the netCDF variable name, what the variable is (eg. the netCDF variable t = time) and both the minimum and maximum values for each variable.\n",
    "* Also print out how long (in hours) each timestep is."
   ]
  },
  {
   "cell_type": "code",
   "execution_count": null,
   "metadata": {
    "collapsed": false
   },
   "outputs": [],
   "source": []
  },
  {
   "cell_type": "markdown",
   "metadata": {},
   "source": [
    "<a id=\"FirstPlots\">\n",
    "###The First Contour Plots</a>\n",
    " \n",
    "* Create a contour plot of depoThick at time step 1 using 100 contour levels\n",
    "* Make sure you add appropriate labels, title and color bar including any significant units of time and depth (note that depoThick is measured in mm).\n"
   ]
  },
  {
   "cell_type": "code",
   "execution_count": null,
   "metadata": {
    "collapsed": false
   },
   "outputs": [],
   "source": []
  },
  {
   "cell_type": "markdown",
   "metadata": {},
   "source": [
    "Now create the same plot this time at the last time step."
   ]
  },
  {
   "cell_type": "code",
   "execution_count": null,
   "metadata": {
    "collapsed": false
   },
   "outputs": [],
   "source": []
  },
  {
   "cell_type": "markdown",
   "metadata": {},
   "source": [
    "<a id=\"FirstMap\">\n",
    "###Creating the Map</a>\n",
    "\n",
    "Using Basemap and the variables you created above, create a map of North America including the following;\n",
    "* Use a Mercator mapping projection\n",
    "* Coast lines with a linewidth of 1\n",
    "* Country borders with a linewidth of 1\n",
    "* State borders\n",
    "* Fill the continent with a light grey (0.95)\n",
    "* For now, just create a 'low' resolution quality for the map\n"
   ]
  },
  {
   "cell_type": "code",
   "execution_count": null,
   "metadata": {
    "collapsed": false
   },
   "outputs": [],
   "source": []
  },
  {
   "cell_type": "markdown",
   "metadata": {},
   "source": [
    "<a id=\"AddDepo\">\n",
    "###Adding the Deposit Thickness to the Map</a>\n",
    "\n",
    "Now using the map you just created add a contour plot of the ash deposition thickness.\n",
    "* First you have to create a grid (use meshgrid) which has a size of [longitudes, latitudes] \n",
    "* Next get the x, y positions from your base\n",
    "* Use the first time step \n",
    "* Use 100 contour levels\n",
    "\n",
    "If you did things right, then the initial ash deposition will match the actual location of Mount St. Helens in south-western Washington.\n",
    "\n",
    "NOTE: If you experience slow to know performance due to memory issues (this is a function of running the Notebook) then copy the code to create your lat and lon variables and your Basemap from above to your new code below.\n"
   ]
  },
  {
   "cell_type": "code",
   "execution_count": null,
   "metadata": {
    "collapsed": false
   },
   "outputs": [],
   "source": []
  },
  {
   "cell_type": "markdown",
   "metadata": {},
   "source": [
    "<a id=\"PresentableMap\">\n",
    "###A Much More Presentable Map</a>\n",
    "\n",
    "* Create a figure that fits the width of the Notebook\n",
    "* Use the last time step\n",
    "* Use 500 contour levels\n",
    "* Add in both parallels and meridians\n",
    "* Fill the continent with a light grey (0.95)\n",
    "* Fill all waters with an 'Aqua' color\n",
    "* Add title, labels, colorbar and make sure all font sizes are easily readable to someone sitting at the back of an auditorium.\n"
   ]
  },
  {
   "cell_type": "code",
   "execution_count": null,
   "metadata": {
    "collapsed": false
   },
   "outputs": [],
   "source": []
  },
  {
   "cell_type": "markdown",
   "metadata": {
    "collapsed": true
   },
   "source": [
    "<a id=\"SmallWorld\">\n",
    "###It's a Small World - The Final Product, First Beginnings</a>\n",
    "\n",
    "For the final plot it's all about the eye candy. The above plot is approaching something you can use for a scientific paper but what if you wanted to present this information to a live audience? To engage (spelled keep awake) people at conferences or other forms of presentations (think about your project) you need to jump to the next step and while I called it eye candy it also opens the viewers mind to a larger more encompassing thought process. So once completed with this last plot take a look at the one above and this next one and spend a few minutes reviewing how you 'feel' when you look at each!\n",
    "\n",
    "So for this last one we are going global and make the Earth look like, well Earth! \n",
    "* Create a new map this time using a Near-Sided Perspective Projection using the following;\n",
    " * Projection = nsper\n",
    " * Longitude view position = -105\n",
    " * Latitude view position = 40\n",
    " * Satellite height = 3000 km \n",
    " * Resolution = full\n",
    " * Texture the map with NASA's 'bluemarble' map\n",
    " * Add in both parallels and meridians \n",
    " \n",
    "* Add in a filled contour plot \n",
    "* Set the timestep to the last timestep\n",
    "* Set the contour levels to 700\n",
    "* Create new colormap for the contourf plot using matplotlib's \"YlOrBr_r\" color map (note the '_r' indicates it's the reverse of the normal \"YlOrBr\" color map.) \n",
    " * Set the under value for the color map to a white color with an alpha value of 0.\n",
    " * Set the lower and upper limits for the color map to (0.001, 0.12). \n",
    " * The net effect of these last two settings is that it clamps the values mapped from the data to the color map such that any value below 0.001 will be transparent thus we will see just the contours we want and not a big block of color blocking our map.\n",
    " * This is not the best color map we can use but we will spend A LOT of time talking about coloring later in the semester.\n",
    " \n",
    "Note this will take a few seconds to render everything for you!\n"
   ]
  },
  {
   "cell_type": "code",
   "execution_count": null,
   "metadata": {
    "collapsed": false
   },
   "outputs": [],
   "source": []
  }
 ],
 "metadata": {
  "kernelspec": {
   "display_name": "Python 2",
   "language": "python",
   "name": "python2"
  },
  "language_info": {
   "codemirror_mode": {
    "name": "ipython",
    "version": 2
   },
   "file_extension": ".py",
   "mimetype": "text/x-python",
   "name": "python",
   "nbconvert_exporter": "python",
   "pygments_lexer": "ipython2",
   "version": "2.7.11"
  }
 },
 "nbformat": 4,
 "nbformat_minor": 0
}
