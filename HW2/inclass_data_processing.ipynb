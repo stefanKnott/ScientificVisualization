{
 "cells": [
  {
   "cell_type": "markdown",
   "metadata": {},
   "source": [
    "# $CO_2$ data set\n",
    "\n",
    "- first 58 lines are header.\n",
    "- Data is organized *year month decimal average trend*\n",
    "\n",
    "Here is a link to the web page http://www.esrl.noaa.gov/gmd/ccgg/trends/global.html#global.\n",
    "Produce a plot similar to the one shown on the webpage. Use the decimal as the x-axis\n",
    "\n",
    "The data is at the url below for download"
   ]
  },
  {
   "cell_type": "code",
   "execution_count": 13,
   "metadata": {
    "collapsed": false
   },
   "outputs": [],
   "source": [
    "url = \"ftp://aftp.cmdl.noaa.gov/products/trends/co2/co2_mm_gl.txt\""
   ]
  },
  {
   "cell_type": "code",
   "execution_count": null,
   "metadata": {
    "collapsed": true
   },
   "outputs": [],
   "source": []
  }
 ],
 "metadata": {
  "kernelspec": {
   "display_name": "Python 2",
   "language": "python",
   "name": "python2"
  },
  "language_info": {
   "codemirror_mode": {
    "name": "ipython",
    "version": 2
   },
   "file_extension": ".py",
   "mimetype": "text/x-python",
   "name": "python",
   "nbconvert_exporter": "python",
   "pygments_lexer": "ipython2",
   "version": "2.7.11"
  }
 },
 "nbformat": 4,
 "nbformat_minor": 0
}
